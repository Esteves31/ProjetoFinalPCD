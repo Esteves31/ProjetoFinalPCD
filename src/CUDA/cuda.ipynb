{
  "nbformat": 4,
  "nbformat_minor": 0,
  "metadata": {
    "colab": {
      "provenance": [],
      "gpuType": "T4"
    },
    "kernelspec": {
      "name": "python3",
      "display_name": "Python 3"
    },
    "language_info": {
      "name": "python"
    },
    "accelerator": "GPU"
  },
  "cells": [
    {
      "cell_type": "markdown",
      "source": [
        "## Configurações Iniciais"
      ],
      "metadata": {
        "id": "2KQboDdMbIct"
      }
    },
    {
      "cell_type": "code",
      "execution_count": 1,
      "metadata": {
        "id": "n39ebWX_4ACF"
      },
      "outputs": [],
      "source": [
        "!pip install git+https://github.com/lesc-ufv/cad4u.git &> /dev/null\n",
        "!git clone https://github.com/lesc-ufv/cad4u &> /dev/null\n",
        "%load_ext plugin"
      ]
    },
    {
      "cell_type": "code",
      "source": [
        "!nvidia-smi"
      ],
      "metadata": {
        "colab": {
          "base_uri": "https://localhost:8080/"
        },
        "id": "b6tZFovb5VTJ",
        "outputId": "7092d691-140c-4390-852d-50b566a24bd8"
      },
      "execution_count": 2,
      "outputs": [
        {
          "output_type": "stream",
          "name": "stdout",
          "text": [
            "Thu Jan 16 00:30:39 2025       \n",
            "+---------------------------------------------------------------------------------------+\n",
            "| NVIDIA-SMI 535.104.05             Driver Version: 535.104.05   CUDA Version: 12.2     |\n",
            "|-----------------------------------------+----------------------+----------------------+\n",
            "| GPU  Name                 Persistence-M | Bus-Id        Disp.A | Volatile Uncorr. ECC |\n",
            "| Fan  Temp   Perf          Pwr:Usage/Cap |         Memory-Usage | GPU-Util  Compute M. |\n",
            "|                                         |                      |               MIG M. |\n",
            "|=========================================+======================+======================|\n",
            "|   0  Tesla T4                       Off | 00000000:00:04.0 Off |                    0 |\n",
            "| N/A   48C    P8              10W /  70W |      0MiB / 15360MiB |      0%      Default |\n",
            "|                                         |                      |                  N/A |\n",
            "+-----------------------------------------+----------------------+----------------------+\n",
            "                                                                                         \n",
            "+---------------------------------------------------------------------------------------+\n",
            "| Processes:                                                                            |\n",
            "|  GPU   GI   CI        PID   Type   Process name                            GPU Memory |\n",
            "|        ID   ID                                                             Usage      |\n",
            "|=======================================================================================|\n",
            "|  No running processes found                                                           |\n",
            "+---------------------------------------------------------------------------------------+\n"
          ]
        }
      ]
    },
    {
      "cell_type": "code",
      "source": [
        "!git clone https://github.com/NVIDIA/cuda-samples.git\n",
        "%cd cuda-samples/Samples/1_Utilities/deviceQuery\n",
        "!make"
      ],
      "metadata": {
        "colab": {
          "base_uri": "https://localhost:8080/"
        },
        "id": "iEBKdiB65x0s",
        "outputId": "ce242231-29c6-4458-eb62-1917f27fc854"
      },
      "execution_count": 3,
      "outputs": [
        {
          "output_type": "stream",
          "name": "stdout",
          "text": [
            "Cloning into 'cuda-samples'...\n",
            "remote: Enumerating objects: 19507, done.\u001b[K\n",
            "remote: Counting objects: 100% (4227/4227), done.\u001b[K\n",
            "remote: Compressing objects: 100% (655/655), done.\u001b[K\n",
            "remote: Total 19507 (delta 3932), reused 3572 (delta 3572), pack-reused 15280 (from 2)\u001b[K\n",
            "Receiving objects: 100% (19507/19507), 133.82 MiB | 20.50 MiB/s, done.\n",
            "Resolving deltas: 100% (17105/17105), done.\n",
            "Updating files: 100% (4026/4026), done.\n",
            "/content/cuda-samples/Samples/1_Utilities/deviceQuery\n",
            "/usr/local/cuda/bin/nvcc -ccbin g++ -I../../../Common -m64 --threads 0 --std=c++11 -gencode arch=compute_50,code=sm_50 -gencode arch=compute_52,code=sm_52 -gencode arch=compute_60,code=sm_60 -gencode arch=compute_61,code=sm_61 -gencode arch=compute_70,code=sm_70 -gencode arch=compute_75,code=sm_75 -gencode arch=compute_80,code=sm_80 -gencode arch=compute_86,code=sm_86 -gencode arch=compute_89,code=sm_89 -gencode arch=compute_90,code=sm_90 -gencode arch=compute_90,code=compute_90 -o deviceQuery.o -c deviceQuery.cpp\n",
            "/usr/local/cuda/bin/nvcc -ccbin g++ -m64 -gencode arch=compute_50,code=sm_50 -gencode arch=compute_52,code=sm_52 -gencode arch=compute_60,code=sm_60 -gencode arch=compute_61,code=sm_61 -gencode arch=compute_70,code=sm_70 -gencode arch=compute_75,code=sm_75 -gencode arch=compute_80,code=sm_80 -gencode arch=compute_86,code=sm_86 -gencode arch=compute_89,code=sm_89 -gencode arch=compute_90,code=sm_90 -gencode arch=compute_90,code=compute_90 -o deviceQuery deviceQuery.o \n",
            "mkdir -p ../../../bin/x86_64/linux/release\n",
            "cp deviceQuery ../../../bin/x86_64/linux/release\n"
          ]
        }
      ]
    },
    {
      "cell_type": "code",
      "source": [
        "! nvprof ./deviceQuery"
      ],
      "metadata": {
        "colab": {
          "base_uri": "https://localhost:8080/"
        },
        "id": "q6ylFdhK53xj",
        "outputId": "e886155b-1d81-416a-bd4f-304f2f2fd0e9"
      },
      "execution_count": 4,
      "outputs": [
        {
          "output_type": "stream",
          "name": "stdout",
          "text": [
            "./deviceQuery Starting...\n",
            "\n",
            " CUDA Device Query (Runtime API) version (CUDART static linking)\n",
            "\n",
            "==720== NVPROF is profiling process 720, command: ./deviceQuery\n",
            "Detected 1 CUDA Capable device(s)\n",
            "\n",
            "Device 0: \"Tesla T4\"\n",
            "  CUDA Driver Version / Runtime Version          12.2 / 12.2\n",
            "  CUDA Capability Major/Minor version number:    7.5\n",
            "  Total amount of global memory:                 15102 MBytes (15835660288 bytes)\n",
            "  (040) Multiprocessors, (064) CUDA Cores/MP:    2560 CUDA Cores\n",
            "  GPU Max Clock rate:                            1590 MHz (1.59 GHz)\n",
            "  Memory Clock rate:                             5001 Mhz\n",
            "  Memory Bus Width:                              256-bit\n",
            "  L2 Cache Size:                                 4194304 bytes\n",
            "  Maximum Texture Dimension Size (x,y,z)         1D=(131072), 2D=(131072, 65536), 3D=(16384, 16384, 16384)\n",
            "  Maximum Layered 1D Texture Size, (num) layers  1D=(32768), 2048 layers\n",
            "  Maximum Layered 2D Texture Size, (num) layers  2D=(32768, 32768), 2048 layers\n",
            "  Total amount of constant memory:               65536 bytes\n",
            "  Total amount of shared memory per block:       49152 bytes\n",
            "  Total shared memory per multiprocessor:        65536 bytes\n",
            "  Total number of registers available per block: 65536\n",
            "  Warp size:                                     32\n",
            "  Maximum number of threads per multiprocessor:  1024\n",
            "  Maximum number of threads per block:           1024\n",
            "  Max dimension size of a thread block (x,y,z): (1024, 1024, 64)\n",
            "  Max dimension size of a grid size    (x,y,z): (2147483647, 65535, 65535)\n",
            "  Maximum memory pitch:                          2147483647 bytes\n",
            "  Texture alignment:                             512 bytes\n",
            "  Concurrent copy and kernel execution:          Yes with 3 copy engine(s)\n",
            "  Run time limit on kernels:                     No\n",
            "  Integrated GPU sharing Host Memory:            No\n",
            "  Support host page-locked memory mapping:       Yes\n",
            "  Alignment requirement for Surfaces:            Yes\n",
            "  Device has ECC support:                        Enabled\n",
            "  Device supports Unified Addressing (UVA):      Yes\n",
            "  Device supports Managed Memory:                Yes\n",
            "  Device supports Compute Preemption:            Yes\n",
            "  Supports Cooperative Kernel Launch:            Yes\n",
            "  Supports MultiDevice Co-op Kernel Launch:      Yes\n",
            "  Device PCI Domain ID / Bus ID / location ID:   0 / 0 / 4\n",
            "  Compute Mode:\n",
            "     < Default (multiple host threads can use ::cudaSetDevice() with device simultaneously) >\n",
            "\n",
            "deviceQuery, CUDA Driver = CUDART, CUDA Driver Version = 12.2, CUDA Runtime Version = 12.2, NumDevs = 1\n",
            "Result = PASS\n",
            "==720== Profiling application: ./deviceQuery\n",
            "==720== Profiling result:\n",
            "No kernels were profiled.\n",
            "            Type  Time(%)      Time     Calls       Avg       Min       Max  Name\n",
            "      API calls:   99.73%  147.72ms         1  147.72ms  147.72ms  147.72ms  cudaSetDevice\n",
            "                    0.14%  203.76us       114  1.7870us     194ns  76.227us  cuDeviceGetAttribute\n",
            "                    0.11%  168.81us         1  168.81us  168.81us  168.81us  cudaGetDeviceProperties\n",
            "                    0.01%  12.170us         1  12.170us  12.170us  12.170us  cuDeviceGetName\n",
            "                    0.01%  9.1380us         1  9.1380us  9.1380us  9.1380us  cuDeviceGetPCIBusId\n",
            "                    0.00%  5.3630us         1  5.3630us  5.3630us  5.3630us  cuDeviceTotalMem\n",
            "                    0.00%  2.2130us         3     737ns     361ns  1.4730us  cuDeviceGetCount\n",
            "                    0.00%  1.5070us         1  1.5070us  1.5070us  1.5070us  cudaGetDeviceCount\n",
            "                    0.00%  1.2750us         2     637ns     300ns     975ns  cuDeviceGet\n",
            "                    0.00%     847ns         1     847ns     847ns     847ns  cudaDriverGetVersion\n",
            "                    0.00%     676ns         1     676ns     676ns     676ns  cuModuleGetLoadingMode\n",
            "                    0.00%     484ns         1     484ns     484ns     484ns  cuDeviceGetUuid\n",
            "                    0.00%     381ns         1     381ns     381ns     381ns  cudaRuntimeGetVersion\n"
          ]
        }
      ]
    },
    {
      "cell_type": "markdown",
      "source": [
        "## Testes Realizados"
      ],
      "metadata": {
        "id": "6Zwr5RxNbTay"
      }
    },
    {
      "cell_type": "markdown",
      "source": [
        "Foram realizados 5 testes ao todo para a versão em CUDA do projeto final. Em cada teste o número de threads por bloco foi variado, com a intenção de fazer o cálculos de *speedup* e eficiência e analisar seus respectivos ganhos e/ou perdas de desempenho.\n",
        "Os seguintes parâmetros foram utilizados nos testes:<br>\n",
        "1. Threads por bloco: (1, 1);\n",
        "2. Threads por bloco: (2, 2);\n",
        "3. Threads por bloco: (4, 4);\n",
        "4. Threads por bloco: (8, 8);\n",
        "5. Threads por bloco: (16, 16);\n",
        "6. Threads por bloco: (32, 32);\n",
        "7. Threads por bloco: (64, 64);\n",
        "8. Threads por bloco: (128, 128);\n",
        "9. Threads por bloco: (256, 256);\n",
        "10. Threads por bloco: (512, 512);\n",
        "11. Threads por bloco: (1024, 1024);<br>\n",
        "Foi escolhido 1024 para o máximo, pois nas especificações da GPU é mostrado que o máximo de threads suportadas por bloco é de 1024."
      ],
      "metadata": {
        "id": "yNy7TD83cVvp"
      }
    },
    {
      "cell_type": "markdown",
      "source": [
        "### Teste 1"
      ],
      "metadata": {
        "id": "8xb4WdLDfL9y"
      }
    },
    {
      "cell_type": "code",
      "source": [
        "%%writefile diffusion.cu\n",
        "\n",
        "#include <stdio.h>\n",
        "#include <stdlib.h>\n",
        "#include <math.h>\n",
        "\n",
        "#define N 2000    // Tamanho da grade\n",
        "#define T 500     // Número de iterações no tempo\n",
        "#define D 0.1     // Coeficiente de difusão\n",
        "#define DELTA_T 0.01\n",
        "#define DELTA_X 1.0\n",
        "\n",
        "__host__ void diff_eq(double *C, double *C_new);\n",
        "\n",
        "__global__ void diff_eq_kernel(double *C, double *C_new, int n);\n",
        "__global__ void update_kernel(double *C, double *C_new, double *difmedio, int n);\n",
        "\n",
        "int main() {\n",
        "    // Alocação dinâmica de memória para as matrizes na CPU\n",
        "    double *C = (double *)malloc(N * N * sizeof(double));\n",
        "    double *C_new = (double *)malloc(N * N * sizeof(double));\n",
        "\n",
        "    if (C == NULL || C_new == NULL) {\n",
        "        printf(\"Erro na alocação de memória.\\n\");\n",
        "        return 1;\n",
        "    }\n",
        "\n",
        "    for (int i = 0; i < N; i++) {\n",
        "        for (int j = 0; j < N; j++) {\n",
        "            C[i * N + j] = 0.0;\n",
        "            C_new[i * N + j] = 0.0;\n",
        "        }\n",
        "    }\n",
        "\n",
        "    // Inicializar uma concentração alta no centro\n",
        "    C[(N / 2) * N + (N / 2)] = 1.0;\n",
        "\n",
        "    double start = clock();\n",
        "    diff_eq(C, C_new);\n",
        "    double end = clock();\n",
        "\n",
        "    double time = (end - start) / CLOCKS_PER_SEC;\n",
        "    printf(\"Tempo de execução: %f segundos\\n\", time);\n",
        "    printf(\"Concentração final no centro: %f\\n\", C[(N / 2) * N + (N / 2)]);\n",
        "\n",
        "    // Liberar a memória alocada\n",
        "    free(C);\n",
        "    free(C_new);\n",
        "\n",
        "    return 0;\n",
        "}\n",
        "\n",
        "__host__ void diff_eq(double *C, double *C_new) {\n",
        "    double *d_C, *d_C_new, *d_difmedio;\n",
        "    size_t size = N * N * sizeof(double);\n",
        "\n",
        "    // Alocando memória na GPU\n",
        "    cudaMalloc((void **)&d_C, size);\n",
        "    cudaMalloc((void **)&d_C_new, size);\n",
        "    cudaMalloc((void **)&d_difmedio, sizeof(double));\n",
        "\n",
        "    // Copiando os dados para a GPU\n",
        "    cudaMemcpy(d_C, C, size, cudaMemcpyHostToDevice);\n",
        "    cudaMemcpy(d_C_new, C_new, size, cudaMemcpyHostToDevice);\n",
        "\n",
        "    dim3 threadsPerBlock(1, 1);\n",
        "    dim3 numBlocks((N + threadsPerBlock.x - 1) / threadsPerBlock.x, (N + threadsPerBlock.y - 1) / threadsPerBlock.y);\n",
        "\n",
        "    for (int t = 0; t < T; t++) {\n",
        "        // Executando kernel de difusão\n",
        "        diff_eq_kernel<<<numBlocks, threadsPerBlock>>>(d_C, d_C_new, N);\n",
        "\n",
        "        // Inicializando diferença média na GPU\n",
        "        cudaMemset(d_difmedio, 0, sizeof(double));\n",
        "\n",
        "        // Atualizando matriz e calcular diferença média\n",
        "        update_kernel<<<numBlocks, threadsPerBlock>>>(d_C, d_C_new, d_difmedio, N);\n",
        "\n",
        "        // Copiando diferença média de volta para a CPU\n",
        "        double difmedio;\n",
        "        cudaMemcpy(&difmedio, d_difmedio, sizeof(double), cudaMemcpyDeviceToHost);\n",
        "\n",
        "        if ((t % 100) == 0)\n",
        "            printf(\"Interação %d - Diferença média = %g\\n\", t, difmedio / ((N - 2) * (N - 2)));\n",
        "    }\n",
        "\n",
        "    // Copiando os resultados de volta para o host\n",
        "    cudaMemcpy(C, d_C, size, cudaMemcpyDeviceToHost);\n",
        "\n",
        "    // Liberando memória da GPU\n",
        "    cudaFree(d_C);\n",
        "    cudaFree(d_C_new);\n",
        "    cudaFree(d_difmedio);\n",
        "}\n",
        "\n",
        "__global__ void diff_eq_kernel(double *C, double *C_new, int n) {\n",
        "    int i = blockIdx.x * blockDim.x + threadIdx.x;\n",
        "    int j = blockIdx.y * blockDim.y + threadIdx.y;\n",
        "\n",
        "    if (i > 0 && i < n && j > 0 && j < n) {\n",
        "        int idx = i * n + j;\n",
        "        C_new[idx] = C[idx] + D * DELTA_T * (\n",
        "            (C[(i + 1) * n + j] + C[(i - 1) * n + j] + C[i * n + (j + 1)] + C[i * n + (j - 1)] - 4 * C[idx]) / (DELTA_X * DELTA_X)\n",
        "        );\n",
        "    }\n",
        "}\n",
        "\n",
        "__global__ void update_kernel(double *C, double *C_new, double *difmedio, int n) {\n",
        "    int i = blockIdx.x * blockDim.x + threadIdx.x;\n",
        "    int j = blockIdx.y * blockDim.y + threadIdx.y;\n",
        "\n",
        "    if (i > 0 && i < n - 1 && j > 0 && j < n - 1) {\n",
        "        int idx = i * n + j;\n",
        "        atomicAdd(difmedio, fabs(C_new[idx] - C[idx]));\n",
        "        C[idx] = C_new[idx];\n",
        "    }\n",
        "}"
      ],
      "metadata": {
        "colab": {
          "base_uri": "https://localhost:8080/"
        },
        "outputId": "cb36a575-4560-4d73-96a7-40c5a271461a",
        "id": "5G1z60MvfL94"
      },
      "execution_count": 49,
      "outputs": [
        {
          "output_type": "stream",
          "name": "stdout",
          "text": [
            "Overwriting diffusion.cu\n"
          ]
        }
      ]
    },
    {
      "cell_type": "code",
      "source": [
        "!nvcc -arch=sm_60 -o diffusion diffusion.cu\n",
        "!./diffusion"
      ],
      "metadata": {
        "colab": {
          "base_uri": "https://localhost:8080/"
        },
        "outputId": "529852c9-03f3-49c8-f085-c740abeca82f",
        "id": "9tG4NrdCfL-B"
      },
      "execution_count": 50,
      "outputs": [
        {
          "output_type": "stream",
          "name": "stdout",
          "text": [
            "Interação 0 - Diferença média = 2.00401e-09\n",
            "Interação 100 - Diferença média = 1.23248e-09\n",
            "Interação 200 - Diferença média = 7.81794e-10\n",
            "Interação 300 - Diferença média = 5.11528e-10\n",
            "Interação 400 - Diferença média = 4.21632e-10\n",
            "Tempo de execução: 7.196407 segundos\n",
            "Concentração final no centro: 0.216512\n"
          ]
        }
      ]
    },
    {
      "cell_type": "markdown",
      "source": [
        "### Teste 2"
      ],
      "metadata": {
        "id": "i7qMbGtOfTHr"
      }
    },
    {
      "cell_type": "code",
      "source": [
        "%%writefile diffusion.cu\n",
        "\n",
        "#include <stdio.h>\n",
        "#include <stdlib.h>\n",
        "#include <math.h>\n",
        "\n",
        "#define N 2000    // Tamanho da grade\n",
        "#define T 500     // Número de iterações no tempo\n",
        "#define D 0.1     // Coeficiente de difusão\n",
        "#define DELTA_T 0.01\n",
        "#define DELTA_X 1.0\n",
        "\n",
        "__host__ void diff_eq(double *C, double *C_new);\n",
        "\n",
        "__global__ void diff_eq_kernel(double *C, double *C_new, int n);\n",
        "__global__ void update_kernel(double *C, double *C_new, double *difmedio, int n);\n",
        "\n",
        "int main() {\n",
        "    // Alocação dinâmica de memória para as matrizes na CPU\n",
        "    double *C = (double *)malloc(N * N * sizeof(double));\n",
        "    double *C_new = (double *)malloc(N * N * sizeof(double));\n",
        "\n",
        "    if (C == NULL || C_new == NULL) {\n",
        "        printf(\"Erro na alocação de memória.\\n\");\n",
        "        return 1;\n",
        "    }\n",
        "\n",
        "    for (int i = 0; i < N; i++) {\n",
        "        for (int j = 0; j < N; j++) {\n",
        "            C[i * N + j] = 0.0;\n",
        "            C_new[i * N + j] = 0.0;\n",
        "        }\n",
        "    }\n",
        "\n",
        "    // Inicializar uma concentração alta no centro\n",
        "    C[(N / 2) * N + (N / 2)] = 1.0;\n",
        "\n",
        "    double start = clock();\n",
        "    diff_eq(C, C_new);\n",
        "    double end = clock();\n",
        "\n",
        "    double time = (end - start) / CLOCKS_PER_SEC;\n",
        "    printf(\"Tempo de execução: %f segundos\\n\", time);\n",
        "    printf(\"Concentração final no centro: %f\\n\", C[(N / 2) * N + (N / 2)]);\n",
        "\n",
        "    // Liberar a memória alocada\n",
        "    free(C);\n",
        "    free(C_new);\n",
        "\n",
        "    return 0;\n",
        "}\n",
        "\n",
        "__host__ void diff_eq(double *C, double *C_new) {\n",
        "    double *d_C, *d_C_new, *d_difmedio;\n",
        "    size_t size = N * N * sizeof(double);\n",
        "\n",
        "    // Alocando memória na GPU\n",
        "    cudaMalloc((void **)&d_C, size);\n",
        "    cudaMalloc((void **)&d_C_new, size);\n",
        "    cudaMalloc((void **)&d_difmedio, sizeof(double));\n",
        "\n",
        "    // Copiando os dados para a GPU\n",
        "    cudaMemcpy(d_C, C, size, cudaMemcpyHostToDevice);\n",
        "    cudaMemcpy(d_C_new, C_new, size, cudaMemcpyHostToDevice);\n",
        "\n",
        "    dim3 threadsPerBlock(2, 2);\n",
        "    dim3 numBlocks((N + threadsPerBlock.x - 1) / threadsPerBlock.x, (N + threadsPerBlock.y - 1) / threadsPerBlock.y);\n",
        "\n",
        "    for (int t = 0; t < T; t++) {\n",
        "        // Executando kernel de difusão\n",
        "        diff_eq_kernel<<<numBlocks, threadsPerBlock>>>(d_C, d_C_new, N);\n",
        "\n",
        "        // Inicializando diferença média na GPU\n",
        "        cudaMemset(d_difmedio, 0, sizeof(double));\n",
        "\n",
        "        // Atualizando matriz e calcular diferença média\n",
        "        update_kernel<<<numBlocks, threadsPerBlock>>>(d_C, d_C_new, d_difmedio, N);\n",
        "\n",
        "        // Copiando diferença média de volta para a CPU\n",
        "        double difmedio;\n",
        "        cudaMemcpy(&difmedio, d_difmedio, sizeof(double), cudaMemcpyDeviceToHost);\n",
        "\n",
        "        if ((t % 100) == 0)\n",
        "            printf(\"Interação %d - Diferença média = %g\\n\", t, difmedio / ((N - 2) * (N - 2)));\n",
        "    }\n",
        "\n",
        "    // Copiando os resultados de volta para o host\n",
        "    cudaMemcpy(C, d_C, size, cudaMemcpyDeviceToHost);\n",
        "\n",
        "    // Liberando memória da GPU\n",
        "    cudaFree(d_C);\n",
        "    cudaFree(d_C_new);\n",
        "    cudaFree(d_difmedio);\n",
        "}\n",
        "\n",
        "__global__ void diff_eq_kernel(double *C, double *C_new, int n) {\n",
        "    int i = blockIdx.x * blockDim.x + threadIdx.x;\n",
        "    int j = blockIdx.y * blockDim.y + threadIdx.y;\n",
        "\n",
        "    if (i > 0 && i < n && j > 0 && j < n) {\n",
        "        int idx = i * n + j;\n",
        "        C_new[idx] = C[idx] + D * DELTA_T * (\n",
        "            (C[(i + 1) * n + j] + C[(i - 1) * n + j] + C[i * n + (j + 1)] + C[i * n + (j - 1)] - 4 * C[idx]) / (DELTA_X * DELTA_X)\n",
        "        );\n",
        "    }\n",
        "}\n",
        "\n",
        "__global__ void update_kernel(double *C, double *C_new, double *difmedio, int n) {\n",
        "    int i = blockIdx.x * blockDim.x + threadIdx.x;\n",
        "    int j = blockIdx.y * blockDim.y + threadIdx.y;\n",
        "\n",
        "    if (i > 0 && i < n - 1 && j > 0 && j < n - 1) {\n",
        "        int idx = i * n + j;\n",
        "        atomicAdd(difmedio, fabs(C_new[idx] - C[idx]));\n",
        "        C[idx] = C_new[idx];\n",
        "    }\n",
        "}"
      ],
      "metadata": {
        "colab": {
          "base_uri": "https://localhost:8080/"
        },
        "outputId": "cc6fa8d8-beb0-4b85-f22a-54b3d0fbf198",
        "id": "fk1x0aEWfTHw"
      },
      "execution_count": 51,
      "outputs": [
        {
          "output_type": "stream",
          "name": "stdout",
          "text": [
            "Overwriting diffusion.cu\n"
          ]
        }
      ]
    },
    {
      "cell_type": "code",
      "source": [
        "!nvcc -arch=sm_60 -o diffusion diffusion.cu\n",
        "!./diffusion"
      ],
      "metadata": {
        "colab": {
          "base_uri": "https://localhost:8080/"
        },
        "outputId": "6ea46653-5367-4dcc-8b96-295498ea5969",
        "id": "LP2FV_wTfTHz"
      },
      "execution_count": 52,
      "outputs": [
        {
          "output_type": "stream",
          "name": "stdout",
          "text": [
            "Interação 0 - Diferença média = 2.00401e-09\n",
            "Interação 100 - Diferença média = 1.23248e-09\n",
            "Interação 200 - Diferença média = 7.81794e-10\n",
            "Interação 300 - Diferença média = 5.11528e-10\n",
            "Interação 400 - Diferença média = 4.21632e-10\n",
            "Tempo de execução: 4.824912 segundos\n",
            "Concentração final no centro: 0.216512\n"
          ]
        }
      ]
    },
    {
      "cell_type": "markdown",
      "source": [
        "### Teste 3"
      ],
      "metadata": {
        "id": "u0dAFREmfeSq"
      }
    },
    {
      "cell_type": "code",
      "source": [
        "%%writefile diffusion.cu\n",
        "\n",
        "#include <stdio.h>\n",
        "#include <stdlib.h>\n",
        "#include <math.h>\n",
        "\n",
        "#define N 2000    // Tamanho da grade\n",
        "#define T 500     // Número de iterações no tempo\n",
        "#define D 0.1     // Coeficiente de difusão\n",
        "#define DELTA_T 0.01\n",
        "#define DELTA_X 1.0\n",
        "\n",
        "__host__ void diff_eq(double *C, double *C_new);\n",
        "\n",
        "__global__ void diff_eq_kernel(double *C, double *C_new, int n);\n",
        "__global__ void update_kernel(double *C, double *C_new, double *difmedio, int n);\n",
        "\n",
        "int main() {\n",
        "    // Alocação dinâmica de memória para as matrizes na CPU\n",
        "    double *C = (double *)malloc(N * N * sizeof(double));\n",
        "    double *C_new = (double *)malloc(N * N * sizeof(double));\n",
        "\n",
        "    if (C == NULL || C_new == NULL) {\n",
        "        printf(\"Erro na alocação de memória.\\n\");\n",
        "        return 1;\n",
        "    }\n",
        "\n",
        "    for (int i = 0; i < N; i++) {\n",
        "        for (int j = 0; j < N; j++) {\n",
        "            C[i * N + j] = 0.0;\n",
        "            C_new[i * N + j] = 0.0;\n",
        "        }\n",
        "    }\n",
        "\n",
        "    // Inicializar uma concentração alta no centro\n",
        "    C[(N / 2) * N + (N / 2)] = 1.0;\n",
        "\n",
        "    double start = clock();\n",
        "    diff_eq(C, C_new);\n",
        "    double end = clock();\n",
        "\n",
        "    double time = (end - start) / CLOCKS_PER_SEC;\n",
        "    printf(\"Tempo de execução: %f segundos\\n\", time);\n",
        "    printf(\"Concentração final no centro: %f\\n\", C[(N / 2) * N + (N / 2)]);\n",
        "\n",
        "    // Liberar a memória alocada\n",
        "    free(C);\n",
        "    free(C_new);\n",
        "\n",
        "    return 0;\n",
        "}\n",
        "\n",
        "__host__ void diff_eq(double *C, double *C_new) {\n",
        "    double *d_C, *d_C_new, *d_difmedio;\n",
        "    size_t size = N * N * sizeof(double);\n",
        "\n",
        "    // Alocando memória na GPU\n",
        "    cudaMalloc((void **)&d_C, size);\n",
        "    cudaMalloc((void **)&d_C_new, size);\n",
        "    cudaMalloc((void **)&d_difmedio, sizeof(double));\n",
        "\n",
        "    // Copiando os dados para a GPU\n",
        "    cudaMemcpy(d_C, C, size, cudaMemcpyHostToDevice);\n",
        "    cudaMemcpy(d_C_new, C_new, size, cudaMemcpyHostToDevice);\n",
        "\n",
        "    dim3 threadsPerBlock(4, 4);\n",
        "    dim3 numBlocks((N + threadsPerBlock.x - 1) / threadsPerBlock.x, (N + threadsPerBlock.y - 1) / threadsPerBlock.y);\n",
        "\n",
        "    for (int t = 0; t < T; t++) {\n",
        "        // Executando kernel de difusão\n",
        "        diff_eq_kernel<<<numBlocks, threadsPerBlock>>>(d_C, d_C_new, N);\n",
        "\n",
        "        // Inicializando diferença média na GPU\n",
        "        cudaMemset(d_difmedio, 0, sizeof(double));\n",
        "\n",
        "        // Atualizando matriz e calcular diferença média\n",
        "        update_kernel<<<numBlocks, threadsPerBlock>>>(d_C, d_C_new, d_difmedio, N);\n",
        "\n",
        "        // Copiando diferença média de volta para a CPU\n",
        "        double difmedio;\n",
        "        cudaMemcpy(&difmedio, d_difmedio, sizeof(double), cudaMemcpyDeviceToHost);\n",
        "\n",
        "        if ((t % 100) == 0)\n",
        "            printf(\"Interação %d - Diferença média = %g\\n\", t, difmedio / ((N - 2) * (N - 2)));\n",
        "    }\n",
        "\n",
        "    // Copiando os resultados de volta para o host\n",
        "    cudaMemcpy(C, d_C, size, cudaMemcpyDeviceToHost);\n",
        "\n",
        "    // Liberando memória da GPU\n",
        "    cudaFree(d_C);\n",
        "    cudaFree(d_C_new);\n",
        "    cudaFree(d_difmedio);\n",
        "}\n",
        "\n",
        "__global__ void diff_eq_kernel(double *C, double *C_new, int n) {\n",
        "    int i = blockIdx.x * blockDim.x + threadIdx.x;\n",
        "    int j = blockIdx.y * blockDim.y + threadIdx.y;\n",
        "\n",
        "    if (i > 0 && i < n && j > 0 && j < n) {\n",
        "        int idx = i * n + j;\n",
        "        C_new[idx] = C[idx] + D * DELTA_T * (\n",
        "            (C[(i + 1) * n + j] + C[(i - 1) * n + j] + C[i * n + (j + 1)] + C[i * n + (j - 1)] - 4 * C[idx]) / (DELTA_X * DELTA_X)\n",
        "        );\n",
        "    }\n",
        "}\n",
        "\n",
        "__global__ void update_kernel(double *C, double *C_new, double *difmedio, int n) {\n",
        "    int i = blockIdx.x * blockDim.x + threadIdx.x;\n",
        "    int j = blockIdx.y * blockDim.y + threadIdx.y;\n",
        "\n",
        "    if (i > 0 && i < n - 1 && j > 0 && j < n - 1) {\n",
        "        int idx = i * n + j;\n",
        "        atomicAdd(difmedio, fabs(C_new[idx] - C[idx]));\n",
        "        C[idx] = C_new[idx];\n",
        "    }\n",
        "}"
      ],
      "metadata": {
        "colab": {
          "base_uri": "https://localhost:8080/"
        },
        "outputId": "9368f652-223c-4d35-d7b7-8e0c9da48e85",
        "id": "0IsP2lCTfeSs"
      },
      "execution_count": 53,
      "outputs": [
        {
          "output_type": "stream",
          "name": "stdout",
          "text": [
            "Overwriting diffusion.cu\n"
          ]
        }
      ]
    },
    {
      "cell_type": "code",
      "source": [
        "!nvcc -arch=sm_60 -o diffusion diffusion.cu\n",
        "!./diffusion"
      ],
      "metadata": {
        "colab": {
          "base_uri": "https://localhost:8080/"
        },
        "outputId": "5fd28fef-6c0a-43c1-c884-025060169f7c",
        "id": "3ij2pEAgfeSy"
      },
      "execution_count": 54,
      "outputs": [
        {
          "output_type": "stream",
          "name": "stdout",
          "text": [
            "Interação 0 - Diferença média = 2.00401e-09\n",
            "Interação 100 - Diferença média = 1.23248e-09\n",
            "Interação 200 - Diferença média = 7.81794e-10\n",
            "Interação 300 - Diferença média = 5.11528e-10\n",
            "Interação 400 - Diferença média = 4.21632e-10\n",
            "Tempo de execução: 4.354980 segundos\n",
            "Concentração final no centro: 0.216512\n"
          ]
        }
      ]
    },
    {
      "cell_type": "markdown",
      "source": [
        "### Teste 4"
      ],
      "metadata": {
        "id": "1PlSsCnPfpcw"
      }
    },
    {
      "cell_type": "code",
      "source": [
        "%%writefile diffusion.cu\n",
        "\n",
        "#include <stdio.h>\n",
        "#include <stdlib.h>\n",
        "#include <math.h>\n",
        "\n",
        "#define N 2000    // Tamanho da grade\n",
        "#define T 500     // Número de iterações no tempo\n",
        "#define D 0.1     // Coeficiente de difusão\n",
        "#define DELTA_T 0.01\n",
        "#define DELTA_X 1.0\n",
        "\n",
        "__host__ void diff_eq(double *C, double *C_new);\n",
        "\n",
        "__global__ void diff_eq_kernel(double *C, double *C_new, int n);\n",
        "__global__ void update_kernel(double *C, double *C_new, double *difmedio, int n);\n",
        "\n",
        "int main() {\n",
        "    // Alocação dinâmica de memória para as matrizes na CPU\n",
        "    double *C = (double *)malloc(N * N * sizeof(double));\n",
        "    double *C_new = (double *)malloc(N * N * sizeof(double));\n",
        "\n",
        "    if (C == NULL || C_new == NULL) {\n",
        "        printf(\"Erro na alocação de memória.\\n\");\n",
        "        return 1;\n",
        "    }\n",
        "\n",
        "    for (int i = 0; i < N; i++) {\n",
        "        for (int j = 0; j < N; j++) {\n",
        "            C[i * N + j] = 0.0;\n",
        "            C_new[i * N + j] = 0.0;\n",
        "        }\n",
        "    }\n",
        "\n",
        "    // Inicializar uma concentração alta no centro\n",
        "    C[(N / 2) * N + (N / 2)] = 1.0;\n",
        "\n",
        "    double start = clock();\n",
        "    diff_eq(C, C_new);\n",
        "    double end = clock();\n",
        "\n",
        "    double time = (end - start) / CLOCKS_PER_SEC;\n",
        "    printf(\"Tempo de execução: %f segundos\\n\", time);\n",
        "    printf(\"Concentração final no centro: %f\\n\", C[(N / 2) * N + (N / 2)]);\n",
        "\n",
        "    // Liberar a memória alocada\n",
        "    free(C);\n",
        "    free(C_new);\n",
        "\n",
        "    return 0;\n",
        "}\n",
        "\n",
        "__host__ void diff_eq(double *C, double *C_new) {\n",
        "    double *d_C, *d_C_new, *d_difmedio;\n",
        "    size_t size = N * N * sizeof(double);\n",
        "\n",
        "    // Alocando memória na GPU\n",
        "    cudaMalloc((void **)&d_C, size);\n",
        "    cudaMalloc((void **)&d_C_new, size);\n",
        "    cudaMalloc((void **)&d_difmedio, sizeof(double));\n",
        "\n",
        "    // Copiando os dados para a GPU\n",
        "    cudaMemcpy(d_C, C, size, cudaMemcpyHostToDevice);\n",
        "    cudaMemcpy(d_C_new, C_new, size, cudaMemcpyHostToDevice);\n",
        "\n",
        "    dim3 threadsPerBlock(8, 8);\n",
        "    dim3 numBlocks((N + threadsPerBlock.x - 1) / threadsPerBlock.x, (N + threadsPerBlock.y - 1) / threadsPerBlock.y);\n",
        "\n",
        "    for (int t = 0; t < T; t++) {\n",
        "        // Executando kernel de difusão\n",
        "        diff_eq_kernel<<<numBlocks, threadsPerBlock>>>(d_C, d_C_new, N);\n",
        "\n",
        "        // Inicializando diferença média na GPU\n",
        "        cudaMemset(d_difmedio, 0, sizeof(double));\n",
        "\n",
        "        // Atualizando matriz e calcular diferença média\n",
        "        update_kernel<<<numBlocks, threadsPerBlock>>>(d_C, d_C_new, d_difmedio, N);\n",
        "\n",
        "        // Copiando diferença média de volta para a CPU\n",
        "        double difmedio;\n",
        "        cudaMemcpy(&difmedio, d_difmedio, sizeof(double), cudaMemcpyDeviceToHost);\n",
        "\n",
        "        if ((t % 100) == 0)\n",
        "            printf(\"Interação %d - Diferença média = %g\\n\", t, difmedio / ((N - 2) * (N - 2)));\n",
        "    }\n",
        "\n",
        "    // Copiando os resultados de volta para o host\n",
        "    cudaMemcpy(C, d_C, size, cudaMemcpyDeviceToHost);\n",
        "\n",
        "    // Liberando memória da GPU\n",
        "    cudaFree(d_C);\n",
        "    cudaFree(d_C_new);\n",
        "    cudaFree(d_difmedio);\n",
        "}\n",
        "\n",
        "__global__ void diff_eq_kernel(double *C, double *C_new, int n) {\n",
        "    int i = blockIdx.x * blockDim.x + threadIdx.x;\n",
        "    int j = blockIdx.y * blockDim.y + threadIdx.y;\n",
        "\n",
        "    if (i > 0 && i < n && j > 0 && j < n) {\n",
        "        int idx = i * n + j;\n",
        "        C_new[idx] = C[idx] + D * DELTA_T * (\n",
        "            (C[(i + 1) * n + j] + C[(i - 1) * n + j] + C[i * n + (j + 1)] + C[i * n + (j - 1)] - 4 * C[idx]) / (DELTA_X * DELTA_X)\n",
        "        );\n",
        "    }\n",
        "}\n",
        "\n",
        "__global__ void update_kernel(double *C, double *C_new, double *difmedio, int n) {\n",
        "    int i = blockIdx.x * blockDim.x + threadIdx.x;\n",
        "    int j = blockIdx.y * blockDim.y + threadIdx.y;\n",
        "\n",
        "    if (i > 0 && i < n - 1 && j > 0 && j < n - 1) {\n",
        "        int idx = i * n + j;\n",
        "        atomicAdd(difmedio, fabs(C_new[idx] - C[idx]));\n",
        "        C[idx] = C_new[idx];\n",
        "    }\n",
        "}"
      ],
      "metadata": {
        "colab": {
          "base_uri": "https://localhost:8080/"
        },
        "outputId": "3d3a2292-db4a-44cd-b396-4c1d45af792e",
        "id": "eY5bqmxSfpc1"
      },
      "execution_count": 55,
      "outputs": [
        {
          "output_type": "stream",
          "name": "stdout",
          "text": [
            "Overwriting diffusion.cu\n"
          ]
        }
      ]
    },
    {
      "cell_type": "code",
      "source": [
        "!nvcc -arch=sm_60 -o diffusion diffusion.cu\n",
        "!./diffusion"
      ],
      "metadata": {
        "colab": {
          "base_uri": "https://localhost:8080/"
        },
        "outputId": "dce4d2e1-a457-4dce-aba0-dd255a11b6cf",
        "id": "xp7DNhPVfpc7"
      },
      "execution_count": 56,
      "outputs": [
        {
          "output_type": "stream",
          "name": "stdout",
          "text": [
            "Interação 0 - Diferença média = 2.00401e-09\n",
            "Interação 100 - Diferença média = 1.23248e-09\n",
            "Interação 200 - Diferença média = 7.81794e-10\n",
            "Interação 300 - Diferença média = 5.11528e-10\n",
            "Interação 400 - Diferença média = 4.21632e-10\n",
            "Tempo de execução: 4.267633 segundos\n",
            "Concentração final no centro: 0.216512\n"
          ]
        }
      ]
    },
    {
      "cell_type": "markdown",
      "source": [
        "### Teste 5"
      ],
      "metadata": {
        "id": "pt9QQQJke4Sy"
      }
    },
    {
      "cell_type": "code",
      "source": [
        "%%writefile diffusion.cu\n",
        "\n",
        "#include <stdio.h>\n",
        "#include <stdlib.h>\n",
        "#include <math.h>\n",
        "\n",
        "#define N 2000    // Tamanho da grade\n",
        "#define T 500     // Número de iterações no tempo\n",
        "#define D 0.1     // Coeficiente de difusão\n",
        "#define DELTA_T 0.01\n",
        "#define DELTA_X 1.0\n",
        "\n",
        "__host__ void diff_eq(double *C, double *C_new);\n",
        "\n",
        "__global__ void diff_eq_kernel(double *C, double *C_new, int n);\n",
        "__global__ void update_kernel(double *C, double *C_new, double *difmedio, int n);\n",
        "\n",
        "int main() {\n",
        "    // Alocação dinâmica de memória para as matrizes na CPU\n",
        "    double *C = (double *)malloc(N * N * sizeof(double));\n",
        "    double *C_new = (double *)malloc(N * N * sizeof(double));\n",
        "\n",
        "    if (C == NULL || C_new == NULL) {\n",
        "        printf(\"Erro na alocação de memória.\\n\");\n",
        "        return 1;\n",
        "    }\n",
        "\n",
        "    for (int i = 0; i < N; i++) {\n",
        "        for (int j = 0; j < N; j++) {\n",
        "            C[i * N + j] = 0.0;\n",
        "            C_new[i * N + j] = 0.0;\n",
        "        }\n",
        "    }\n",
        "\n",
        "    // Inicializar uma concentração alta no centro\n",
        "    C[(N / 2) * N + (N / 2)] = 1.0;\n",
        "\n",
        "    double start = clock();\n",
        "    diff_eq(C, C_new);\n",
        "    double end = clock();\n",
        "\n",
        "    double time = (end - start) / CLOCKS_PER_SEC;\n",
        "    printf(\"Tempo de execução: %f segundos\\n\", time);\n",
        "    printf(\"Concentração final no centro: %f\\n\", C[(N / 2) * N + (N / 2)]);\n",
        "\n",
        "    // Liberar a memória alocada\n",
        "    free(C);\n",
        "    free(C_new);\n",
        "\n",
        "    return 0;\n",
        "}\n",
        "\n",
        "__host__ void diff_eq(double *C, double *C_new) {\n",
        "    double *d_C, *d_C_new, *d_difmedio;\n",
        "    size_t size = N * N * sizeof(double);\n",
        "\n",
        "    // Alocando memória na GPU\n",
        "    cudaMalloc((void **)&d_C, size);\n",
        "    cudaMalloc((void **)&d_C_new, size);\n",
        "    cudaMalloc((void **)&d_difmedio, sizeof(double));\n",
        "\n",
        "    // Copiando os dados para a GPU\n",
        "    cudaMemcpy(d_C, C, size, cudaMemcpyHostToDevice);\n",
        "    cudaMemcpy(d_C_new, C_new, size, cudaMemcpyHostToDevice);\n",
        "\n",
        "    dim3 threadsPerBlock(16, 16);\n",
        "    dim3 numBlocks((N + threadsPerBlock.x - 1) / threadsPerBlock.x, (N + threadsPerBlock.y - 1) / threadsPerBlock.y);\n",
        "\n",
        "    for (int t = 0; t < T; t++) {\n",
        "        // Executando kernel de difusão\n",
        "        diff_eq_kernel<<<numBlocks, threadsPerBlock>>>(d_C, d_C_new, N);\n",
        "\n",
        "        // Inicializando diferença média na GPU\n",
        "        cudaMemset(d_difmedio, 0, sizeof(double));\n",
        "\n",
        "        // Atualizando matriz e calcular diferença média\n",
        "        update_kernel<<<numBlocks, threadsPerBlock>>>(d_C, d_C_new, d_difmedio, N);\n",
        "\n",
        "        // Copiando diferença média de volta para a CPU\n",
        "        double difmedio;\n",
        "        cudaMemcpy(&difmedio, d_difmedio, sizeof(double), cudaMemcpyDeviceToHost);\n",
        "\n",
        "        if ((t % 100) == 0)\n",
        "            printf(\"Interação %d - Diferença média = %g\\n\", t, difmedio / ((N - 2) * (N - 2)));\n",
        "    }\n",
        "\n",
        "    // Copiando os resultados de volta para o host\n",
        "    cudaMemcpy(C, d_C, size, cudaMemcpyDeviceToHost);\n",
        "\n",
        "    // Liberando memória da GPU\n",
        "    cudaFree(d_C);\n",
        "    cudaFree(d_C_new);\n",
        "    cudaFree(d_difmedio);\n",
        "}\n",
        "\n",
        "__global__ void diff_eq_kernel(double *C, double *C_new, int n) {\n",
        "    int i = blockIdx.x * blockDim.x + threadIdx.x;\n",
        "    int j = blockIdx.y * blockDim.y + threadIdx.y;\n",
        "\n",
        "    if (i > 0 && i < n && j > 0 && j < n) {\n",
        "        int idx = i * n + j;\n",
        "        C_new[idx] = C[idx] + D * DELTA_T * (\n",
        "            (C[(i + 1) * n + j] + C[(i - 1) * n + j] + C[i * n + (j + 1)] + C[i * n + (j - 1)] - 4 * C[idx]) / (DELTA_X * DELTA_X)\n",
        "        );\n",
        "    }\n",
        "}\n",
        "\n",
        "__global__ void update_kernel(double *C, double *C_new, double *difmedio, int n) {\n",
        "    int i = blockIdx.x * blockDim.x + threadIdx.x;\n",
        "    int j = blockIdx.y * blockDim.y + threadIdx.y;\n",
        "\n",
        "    if (i > 0 && i < n - 1 && j > 0 && j < n - 1) {\n",
        "        int idx = i * n + j;\n",
        "        atomicAdd(difmedio, fabs(C_new[idx] - C[idx]));\n",
        "        C[idx] = C_new[idx];\n",
        "    }\n",
        "}"
      ],
      "metadata": {
        "colab": {
          "base_uri": "https://localhost:8080/"
        },
        "id": "kWvKfk8O7hbC",
        "outputId": "7dc6e387-e38f-41fd-bb47-1fb6f952c65f"
      },
      "execution_count": 57,
      "outputs": [
        {
          "output_type": "stream",
          "name": "stdout",
          "text": [
            "Overwriting diffusion.cu\n"
          ]
        }
      ]
    },
    {
      "cell_type": "code",
      "source": [
        "!nvcc -arch=sm_60 -o diffusion diffusion.cu\n",
        "!./diffusion"
      ],
      "metadata": {
        "colab": {
          "base_uri": "https://localhost:8080/"
        },
        "id": "_w5-czkRLiv2",
        "outputId": "9f353ea6-6921-415f-8758-89a93ed5c229"
      },
      "execution_count": 58,
      "outputs": [
        {
          "output_type": "stream",
          "name": "stdout",
          "text": [
            "Interação 0 - Diferença média = 2.00401e-09\n",
            "Interação 100 - Diferença média = 1.23248e-09\n",
            "Interação 200 - Diferença média = 7.81794e-10\n",
            "Interação 300 - Diferença média = 5.11528e-10\n",
            "Interação 400 - Diferença média = 4.21632e-10\n",
            "Tempo de execução: 4.569233 segundos\n",
            "Concentração final no centro: 0.216512\n"
          ]
        }
      ]
    },
    {
      "cell_type": "markdown",
      "source": [
        "### Teste 6"
      ],
      "metadata": {
        "id": "Hma1JOZnfy1X"
      }
    },
    {
      "cell_type": "code",
      "source": [
        "%%writefile diffusion.cu\n",
        "\n",
        "#include <stdio.h>\n",
        "#include <stdlib.h>\n",
        "#include <math.h>\n",
        "\n",
        "#define N 2000    // Tamanho da grade\n",
        "#define T 500     // Número de iterações no tempo\n",
        "#define D 0.1     // Coeficiente de difusão\n",
        "#define DELTA_T 0.01\n",
        "#define DELTA_X 1.0\n",
        "\n",
        "__host__ void diff_eq(double *C, double *C_new);\n",
        "\n",
        "__global__ void diff_eq_kernel(double *C, double *C_new, int n);\n",
        "__global__ void update_kernel(double *C, double *C_new, double *difmedio, int n);\n",
        "\n",
        "int main() {\n",
        "    // Alocação dinâmica de memória para as matrizes na CPU\n",
        "    double *C = (double *)malloc(N * N * sizeof(double));\n",
        "    double *C_new = (double *)malloc(N * N * sizeof(double));\n",
        "\n",
        "    if (C == NULL || C_new == NULL) {\n",
        "        printf(\"Erro na alocação de memória.\\n\");\n",
        "        return 1;\n",
        "    }\n",
        "\n",
        "    for (int i = 0; i < N; i++) {\n",
        "        for (int j = 0; j < N; j++) {\n",
        "            C[i * N + j] = 0.0;\n",
        "            C_new[i * N + j] = 0.0;\n",
        "        }\n",
        "    }\n",
        "\n",
        "    // Inicializar uma concentração alta no centro\n",
        "    C[(N / 2) * N + (N / 2)] = 1.0;\n",
        "\n",
        "    double start = clock();\n",
        "    diff_eq(C, C_new);\n",
        "    double end = clock();\n",
        "\n",
        "    double time = (end - start) / CLOCKS_PER_SEC;\n",
        "    printf(\"Tempo de execução: %f segundos\\n\", time);\n",
        "    printf(\"Concentração final no centro: %f\\n\", C[(N / 2) * N + (N / 2)]);\n",
        "\n",
        "    // Liberar a memória alocada\n",
        "    free(C);\n",
        "    free(C_new);\n",
        "\n",
        "    return 0;\n",
        "}\n",
        "\n",
        "__host__ void diff_eq(double *C, double *C_new) {\n",
        "    double *d_C, *d_C_new, *d_difmedio;\n",
        "    size_t size = N * N * sizeof(double);\n",
        "\n",
        "    // Alocando memória na GPU\n",
        "    cudaMalloc((void **)&d_C, size);\n",
        "    cudaMalloc((void **)&d_C_new, size);\n",
        "    cudaMalloc((void **)&d_difmedio, sizeof(double));\n",
        "\n",
        "    // Copiando os dados para a GPU\n",
        "    cudaMemcpy(d_C, C, size, cudaMemcpyHostToDevice);\n",
        "    cudaMemcpy(d_C_new, C_new, size, cudaMemcpyHostToDevice);\n",
        "\n",
        "    dim3 threadsPerBlock(32, 32);\n",
        "    dim3 numBlocks((N + threadsPerBlock.x - 1) / threadsPerBlock.x, (N + threadsPerBlock.y - 1) / threadsPerBlock.y);\n",
        "\n",
        "    for (int t = 0; t < T; t++) {\n",
        "        // Executando kernel de difusão\n",
        "        diff_eq_kernel<<<numBlocks, threadsPerBlock>>>(d_C, d_C_new, N);\n",
        "\n",
        "        // Inicializando diferença média na GPU\n",
        "        cudaMemset(d_difmedio, 0, sizeof(double));\n",
        "\n",
        "        // Atualizando matriz e calcular diferença média\n",
        "        update_kernel<<<numBlocks, threadsPerBlock>>>(d_C, d_C_new, d_difmedio, N);\n",
        "\n",
        "        // Copiando diferença média de volta para a CPU\n",
        "        double difmedio;\n",
        "        cudaMemcpy(&difmedio, d_difmedio, sizeof(double), cudaMemcpyDeviceToHost);\n",
        "\n",
        "        if ((t % 100) == 0)\n",
        "            printf(\"Interação %d - Diferença média = %g\\n\", t, difmedio / ((N - 2) * (N - 2)));\n",
        "    }\n",
        "\n",
        "    // Copiando os resultados de volta para o host\n",
        "    cudaMemcpy(C, d_C, size, cudaMemcpyDeviceToHost);\n",
        "\n",
        "    // Liberando memória da GPU\n",
        "    cudaFree(d_C);\n",
        "    cudaFree(d_C_new);\n",
        "    cudaFree(d_difmedio);\n",
        "}\n",
        "\n",
        "__global__ void diff_eq_kernel(double *C, double *C_new, int n) {\n",
        "    int i = blockIdx.x * blockDim.x + threadIdx.x;\n",
        "    int j = blockIdx.y * blockDim.y + threadIdx.y;\n",
        "\n",
        "    if (i > 0 && i < n && j > 0 && j < n) {\n",
        "        int idx = i * n + j;\n",
        "        C_new[idx] = C[idx] + D * DELTA_T * (\n",
        "            (C[(i + 1) * n + j] + C[(i - 1) * n + j] + C[i * n + (j + 1)] + C[i * n + (j - 1)] - 4 * C[idx]) / (DELTA_X * DELTA_X)\n",
        "        );\n",
        "    }\n",
        "}\n",
        "\n",
        "__global__ void update_kernel(double *C, double *C_new, double *difmedio, int n) {\n",
        "    int i = blockIdx.x * blockDim.x + threadIdx.x;\n",
        "    int j = blockIdx.y * blockDim.y + threadIdx.y;\n",
        "\n",
        "    if (i > 0 && i < n - 1 && j > 0 && j < n - 1) {\n",
        "        int idx = i * n + j;\n",
        "        atomicAdd(difmedio, fabs(C_new[idx] - C[idx]));\n",
        "        C[idx] = C_new[idx];\n",
        "    }\n",
        "}"
      ],
      "metadata": {
        "colab": {
          "base_uri": "https://localhost:8080/"
        },
        "outputId": "058d1d39-9751-4eaa-8cef-f839646bf104",
        "id": "Fu_9PbEZfy1u"
      },
      "execution_count": 59,
      "outputs": [
        {
          "output_type": "stream",
          "name": "stdout",
          "text": [
            "Overwriting diffusion.cu\n"
          ]
        }
      ]
    },
    {
      "cell_type": "code",
      "source": [
        "!nvcc -arch=sm_60 -o diffusion diffusion.cu\n",
        "!./diffusion"
      ],
      "metadata": {
        "colab": {
          "base_uri": "https://localhost:8080/"
        },
        "outputId": "cf914e31-d836-43e3-ae62-61d4ddbc84fd",
        "id": "K1MYIbRZfy16"
      },
      "execution_count": 60,
      "outputs": [
        {
          "output_type": "stream",
          "name": "stdout",
          "text": [
            "Interação 0 - Diferença média = 2.00401e-09\n",
            "Interação 100 - Diferença média = 1.23248e-09\n",
            "Interação 200 - Diferença média = 7.81794e-10\n",
            "Interação 300 - Diferença média = 5.11528e-10\n",
            "Interação 400 - Diferença média = 4.21632e-10\n",
            "Tempo de execução: 4.446057 segundos\n",
            "Concentração final no centro: 0.216512\n"
          ]
        }
      ]
    },
    {
      "cell_type": "markdown",
      "source": [
        "### Teste 7"
      ],
      "metadata": {
        "id": "1yO2Qatdf6S-"
      }
    },
    {
      "cell_type": "code",
      "source": [
        "%%writefile diffusion.cu\n",
        "\n",
        "#include <stdio.h>\n",
        "#include <stdlib.h>\n",
        "#include <math.h>\n",
        "\n",
        "#define N 2000    // Tamanho da grade\n",
        "#define T 500     // Número de iterações no tempo\n",
        "#define D 0.1     // Coeficiente de difusão\n",
        "#define DELTA_T 0.01\n",
        "#define DELTA_X 1.0\n",
        "\n",
        "__host__ void diff_eq(double *C, double *C_new);\n",
        "\n",
        "__global__ void diff_eq_kernel(double *C, double *C_new, int n);\n",
        "__global__ void update_kernel(double *C, double *C_new, double *difmedio, int n);\n",
        "\n",
        "int main() {\n",
        "    // Alocação dinâmica de memória para as matrizes na CPU\n",
        "    double *C = (double *)malloc(N * N * sizeof(double));\n",
        "    double *C_new = (double *)malloc(N * N * sizeof(double));\n",
        "\n",
        "    if (C == NULL || C_new == NULL) {\n",
        "        printf(\"Erro na alocação de memória.\\n\");\n",
        "        return 1;\n",
        "    }\n",
        "\n",
        "    for (int i = 0; i < N; i++) {\n",
        "        for (int j = 0; j < N; j++) {\n",
        "            C[i * N + j] = 0.0;\n",
        "            C_new[i * N + j] = 0.0;\n",
        "        }\n",
        "    }\n",
        "\n",
        "    // Inicializar uma concentração alta no centro\n",
        "    C[(N / 2) * N + (N / 2)] = 1.0;\n",
        "\n",
        "    double start = clock();\n",
        "    diff_eq(C, C_new);\n",
        "    double end = clock();\n",
        "\n",
        "    double time = (end - start) / CLOCKS_PER_SEC;\n",
        "    printf(\"Tempo de execução: %f segundos\\n\", time);\n",
        "    printf(\"Concentração final no centro: %f\\n\", C[(N / 2) * N + (N / 2)]);\n",
        "\n",
        "    // Liberar a memória alocada\n",
        "    free(C);\n",
        "    free(C_new);\n",
        "\n",
        "    return 0;\n",
        "}\n",
        "\n",
        "__host__ void diff_eq(double *C, double *C_new) {\n",
        "    double *d_C, *d_C_new, *d_difmedio;\n",
        "    size_t size = N * N * sizeof(double);\n",
        "\n",
        "    // Alocando memória na GPU\n",
        "    cudaMalloc((void **)&d_C, size);\n",
        "    cudaMalloc((void **)&d_C_new, size);\n",
        "    cudaMalloc((void **)&d_difmedio, sizeof(double));\n",
        "\n",
        "    // Copiando os dados para a GPU\n",
        "    cudaMemcpy(d_C, C, size, cudaMemcpyHostToDevice);\n",
        "    cudaMemcpy(d_C_new, C_new, size, cudaMemcpyHostToDevice);\n",
        "\n",
        "    dim3 threadsPerBlock(64, 64);\n",
        "    dim3 numBlocks((N + threadsPerBlock.x - 1) / threadsPerBlock.x, (N + threadsPerBlock.y - 1) / threadsPerBlock.y);\n",
        "\n",
        "    for (int t = 0; t < T; t++) {\n",
        "        // Executando kernel de difusão\n",
        "        diff_eq_kernel<<<numBlocks, threadsPerBlock>>>(d_C, d_C_new, N);\n",
        "\n",
        "        // Inicializando diferença média na GPU\n",
        "        cudaMemset(d_difmedio, 0, sizeof(double));\n",
        "\n",
        "        // Atualizando matriz e calcular diferença média\n",
        "        update_kernel<<<numBlocks, threadsPerBlock>>>(d_C, d_C_new, d_difmedio, N);\n",
        "\n",
        "        // Copiando diferença média de volta para a CPU\n",
        "        double difmedio;\n",
        "        cudaMemcpy(&difmedio, d_difmedio, sizeof(double), cudaMemcpyDeviceToHost);\n",
        "\n",
        "        if ((t % 100) == 0)\n",
        "            printf(\"Interação %d - Diferença média = %g\\n\", t, difmedio / ((N - 2) * (N - 2)));\n",
        "    }\n",
        "\n",
        "    // Copiando os resultados de volta para o host\n",
        "    cudaMemcpy(C, d_C, size, cudaMemcpyDeviceToHost);\n",
        "\n",
        "    // Liberando memória da GPU\n",
        "    cudaFree(d_C);\n",
        "    cudaFree(d_C_new);\n",
        "    cudaFree(d_difmedio);\n",
        "}\n",
        "\n",
        "__global__ void diff_eq_kernel(double *C, double *C_new, int n) {\n",
        "    int i = blockIdx.x * blockDim.x + threadIdx.x;\n",
        "    int j = blockIdx.y * blockDim.y + threadIdx.y;\n",
        "\n",
        "    if (i > 0 && i < n && j > 0 && j < n) {\n",
        "        int idx = i * n + j;\n",
        "        C_new[idx] = C[idx] + D * DELTA_T * (\n",
        "            (C[(i + 1) * n + j] + C[(i - 1) * n + j] + C[i * n + (j + 1)] + C[i * n + (j - 1)] - 4 * C[idx]) / (DELTA_X * DELTA_X)\n",
        "        );\n",
        "    }\n",
        "}\n",
        "\n",
        "__global__ void update_kernel(double *C, double *C_new, double *difmedio, int n) {\n",
        "    int i = blockIdx.x * blockDim.x + threadIdx.x;\n",
        "    int j = blockIdx.y * blockDim.y + threadIdx.y;\n",
        "\n",
        "    if (i > 0 && i < n - 1 && j > 0 && j < n - 1) {\n",
        "        int idx = i * n + j;\n",
        "        atomicAdd(difmedio, fabs(C_new[idx] - C[idx]));\n",
        "        C[idx] = C_new[idx];\n",
        "    }\n",
        "}"
      ],
      "metadata": {
        "colab": {
          "base_uri": "https://localhost:8080/"
        },
        "outputId": "991598e1-ac82-4c39-e530-c1b58556adb8",
        "id": "QAu6q0yqf6TE"
      },
      "execution_count": 61,
      "outputs": [
        {
          "output_type": "stream",
          "name": "stdout",
          "text": [
            "Overwriting diffusion.cu\n"
          ]
        }
      ]
    },
    {
      "cell_type": "code",
      "source": [
        "!nvcc -arch=sm_60 -o diffusion diffusion.cu\n",
        "!./diffusion"
      ],
      "metadata": {
        "colab": {
          "base_uri": "https://localhost:8080/"
        },
        "outputId": "60572c90-390d-421d-9ada-f6f72b0a6982",
        "id": "IejJwu91f6TN"
      },
      "execution_count": 62,
      "outputs": [
        {
          "output_type": "stream",
          "name": "stdout",
          "text": [
            "Interação 0 - Diferença média = 0\n",
            "Interação 100 - Diferença média = 0\n",
            "Interação 200 - Diferença média = 0\n",
            "Interação 300 - Diferença média = 0\n",
            "Interação 400 - Diferença média = 0\n",
            "Tempo de execução: 0.118731 segundos\n",
            "Concentração final no centro: 1.000000\n"
          ]
        }
      ]
    },
    {
      "cell_type": "markdown",
      "source": [
        "### Teste 8"
      ],
      "metadata": {
        "id": "ilFzs4E2gDAz"
      }
    },
    {
      "cell_type": "code",
      "source": [
        "%%writefile diffusion.cu\n",
        "\n",
        "#include <stdio.h>\n",
        "#include <stdlib.h>\n",
        "#include <math.h>\n",
        "\n",
        "#define N 2000    // Tamanho da grade\n",
        "#define T 500     // Número de iterações no tempo\n",
        "#define D 0.1     // Coeficiente de difusão\n",
        "#define DELTA_T 0.01\n",
        "#define DELTA_X 1.0\n",
        "\n",
        "__host__ void diff_eq(double *C, double *C_new);\n",
        "\n",
        "__global__ void diff_eq_kernel(double *C, double *C_new, int n);\n",
        "__global__ void update_kernel(double *C, double *C_new, double *difmedio, int n);\n",
        "\n",
        "int main() {\n",
        "    // Alocação dinâmica de memória para as matrizes na CPU\n",
        "    double *C = (double *)malloc(N * N * sizeof(double));\n",
        "    double *C_new = (double *)malloc(N * N * sizeof(double));\n",
        "\n",
        "    if (C == NULL || C_new == NULL) {\n",
        "        printf(\"Erro na alocação de memória.\\n\");\n",
        "        return 1;\n",
        "    }\n",
        "\n",
        "    for (int i = 0; i < N; i++) {\n",
        "        for (int j = 0; j < N; j++) {\n",
        "            C[i * N + j] = 0.0;\n",
        "            C_new[i * N + j] = 0.0;\n",
        "        }\n",
        "    }\n",
        "\n",
        "    // Inicializar uma concentração alta no centro\n",
        "    C[(N / 2) * N + (N / 2)] = 1.0;\n",
        "\n",
        "    double start = clock();\n",
        "    diff_eq(C, C_new);\n",
        "    double end = clock();\n",
        "\n",
        "    double time = (end - start) / CLOCKS_PER_SEC;\n",
        "    printf(\"Tempo de execução: %f segundos\\n\", time);\n",
        "    printf(\"Concentração final no centro: %f\\n\", C[(N / 2) * N + (N / 2)]);\n",
        "\n",
        "    // Liberar a memória alocada\n",
        "    free(C);\n",
        "    free(C_new);\n",
        "\n",
        "    return 0;\n",
        "}\n",
        "\n",
        "__host__ void diff_eq(double *C, double *C_new) {\n",
        "    double *d_C, *d_C_new, *d_difmedio;\n",
        "    size_t size = N * N * sizeof(double);\n",
        "\n",
        "    // Alocando memória na GPU\n",
        "    cudaMalloc((void **)&d_C, size);\n",
        "    cudaMalloc((void **)&d_C_new, size);\n",
        "    cudaMalloc((void **)&d_difmedio, sizeof(double));\n",
        "\n",
        "    // Copiando os dados para a GPU\n",
        "    cudaMemcpy(d_C, C, size, cudaMemcpyHostToDevice);\n",
        "    cudaMemcpy(d_C_new, C_new, size, cudaMemcpyHostToDevice);\n",
        "\n",
        "    dim3 threadsPerBlock(128, 128);\n",
        "    dim3 numBlocks((N + threadsPerBlock.x - 1) / threadsPerBlock.x, (N + threadsPerBlock.y - 1) / threadsPerBlock.y);\n",
        "\n",
        "    for (int t = 0; t < T; t++) {\n",
        "        // Executando kernel de difusão\n",
        "        diff_eq_kernel<<<numBlocks, threadsPerBlock>>>(d_C, d_C_new, N);\n",
        "\n",
        "        // Inicializando diferença média na GPU\n",
        "        cudaMemset(d_difmedio, 0, sizeof(double));\n",
        "\n",
        "        // Atualizando matriz e calcular diferença média\n",
        "        update_kernel<<<numBlocks, threadsPerBlock>>>(d_C, d_C_new, d_difmedio, N);\n",
        "\n",
        "        // Copiando diferença média de volta para a CPU\n",
        "        double difmedio;\n",
        "        cudaMemcpy(&difmedio, d_difmedio, sizeof(double), cudaMemcpyDeviceToHost);\n",
        "\n",
        "        if ((t % 100) == 0)\n",
        "            printf(\"Interação %d - Diferença média = %g\\n\", t, difmedio / ((N - 2) * (N - 2)));\n",
        "    }\n",
        "\n",
        "    // Copiando os resultados de volta para o host\n",
        "    cudaMemcpy(C, d_C, size, cudaMemcpyDeviceToHost);\n",
        "\n",
        "    // Liberando memória da GPU\n",
        "    cudaFree(d_C);\n",
        "    cudaFree(d_C_new);\n",
        "    cudaFree(d_difmedio);\n",
        "}\n",
        "\n",
        "__global__ void diff_eq_kernel(double *C, double *C_new, int n) {\n",
        "    int i = blockIdx.x * blockDim.x + threadIdx.x;\n",
        "    int j = blockIdx.y * blockDim.y + threadIdx.y;\n",
        "\n",
        "    if (i > 0 && i < n && j > 0 && j < n) {\n",
        "        int idx = i * n + j;\n",
        "        C_new[idx] = C[idx] + D * DELTA_T * (\n",
        "            (C[(i + 1) * n + j] + C[(i - 1) * n + j] + C[i * n + (j + 1)] + C[i * n + (j - 1)] - 4 * C[idx]) / (DELTA_X * DELTA_X)\n",
        "        );\n",
        "    }\n",
        "}\n",
        "\n",
        "__global__ void update_kernel(double *C, double *C_new, double *difmedio, int n) {\n",
        "    int i = blockIdx.x * blockDim.x + threadIdx.x;\n",
        "    int j = blockIdx.y * blockDim.y + threadIdx.y;\n",
        "\n",
        "    if (i > 0 && i < n - 1 && j > 0 && j < n - 1) {\n",
        "        int idx = i * n + j;\n",
        "        atomicAdd(difmedio, fabs(C_new[idx] - C[idx]));\n",
        "        C[idx] = C_new[idx];\n",
        "    }\n",
        "}"
      ],
      "metadata": {
        "colab": {
          "base_uri": "https://localhost:8080/"
        },
        "outputId": "4430ac51-945f-4868-db48-78e0bc9d7ae8",
        "id": "Hjlm8WZYgDA7"
      },
      "execution_count": 63,
      "outputs": [
        {
          "output_type": "stream",
          "name": "stdout",
          "text": [
            "Overwriting diffusion.cu\n"
          ]
        }
      ]
    },
    {
      "cell_type": "code",
      "source": [
        "!nvcc -arch=sm_60 -o diffusion diffusion.cu\n",
        "!./diffusion"
      ],
      "metadata": {
        "colab": {
          "base_uri": "https://localhost:8080/"
        },
        "outputId": "1b50a66e-535d-4f4e-d1c8-cb92b874ca2f",
        "id": "tJL4lE0KgDBI"
      },
      "execution_count": 64,
      "outputs": [
        {
          "output_type": "stream",
          "name": "stdout",
          "text": [
            "Interação 0 - Diferença média = 0\n",
            "Interação 100 - Diferença média = 0\n",
            "Interação 200 - Diferença média = 0\n",
            "Interação 300 - Diferença média = 0\n",
            "Interação 400 - Diferença média = 0\n",
            "Tempo de execução: 0.113207 segundos\n",
            "Concentração final no centro: 1.000000\n"
          ]
        }
      ]
    },
    {
      "cell_type": "markdown",
      "source": [
        "### Teste 9"
      ],
      "metadata": {
        "id": "3DYiXewmgL5Y"
      }
    },
    {
      "cell_type": "code",
      "source": [
        "%%writefile diffusion.cu\n",
        "\n",
        "#include <stdio.h>\n",
        "#include <stdlib.h>\n",
        "#include <math.h>\n",
        "\n",
        "#define N 2000    // Tamanho da grade\n",
        "#define T 500     // Número de iterações no tempo\n",
        "#define D 0.1     // Coeficiente de difusão\n",
        "#define DELTA_T 0.01\n",
        "#define DELTA_X 1.0\n",
        "\n",
        "__host__ void diff_eq(double *C, double *C_new);\n",
        "\n",
        "__global__ void diff_eq_kernel(double *C, double *C_new, int n);\n",
        "__global__ void update_kernel(double *C, double *C_new, double *difmedio, int n);\n",
        "\n",
        "int main() {\n",
        "    // Alocação dinâmica de memória para as matrizes na CPU\n",
        "    double *C = (double *)malloc(N * N * sizeof(double));\n",
        "    double *C_new = (double *)malloc(N * N * sizeof(double));\n",
        "\n",
        "    if (C == NULL || C_new == NULL) {\n",
        "        printf(\"Erro na alocação de memória.\\n\");\n",
        "        return 1;\n",
        "    }\n",
        "\n",
        "    for (int i = 0; i < N; i++) {\n",
        "        for (int j = 0; j < N; j++) {\n",
        "            C[i * N + j] = 0.0;\n",
        "            C_new[i * N + j] = 0.0;\n",
        "        }\n",
        "    }\n",
        "\n",
        "    // Inicializar uma concentração alta no centro\n",
        "    C[(N / 2) * N + (N / 2)] = 1.0;\n",
        "\n",
        "    double start = clock();\n",
        "    diff_eq(C, C_new);\n",
        "    double end = clock();\n",
        "\n",
        "    double time = (end - start) / CLOCKS_PER_SEC;\n",
        "    printf(\"Tempo de execução: %f segundos\\n\", time);\n",
        "    printf(\"Concentração final no centro: %f\\n\", C[(N / 2) * N + (N / 2)]);\n",
        "\n",
        "    // Liberar a memória alocada\n",
        "    free(C);\n",
        "    free(C_new);\n",
        "\n",
        "    return 0;\n",
        "}\n",
        "\n",
        "__host__ void diff_eq(double *C, double *C_new) {\n",
        "    double *d_C, *d_C_new, *d_difmedio;\n",
        "    size_t size = N * N * sizeof(double);\n",
        "\n",
        "    // Alocando memória na GPU\n",
        "    cudaMalloc((void **)&d_C, size);\n",
        "    cudaMalloc((void **)&d_C_new, size);\n",
        "    cudaMalloc((void **)&d_difmedio, sizeof(double));\n",
        "\n",
        "    // Copiando os dados para a GPU\n",
        "    cudaMemcpy(d_C, C, size, cudaMemcpyHostToDevice);\n",
        "    cudaMemcpy(d_C_new, C_new, size, cudaMemcpyHostToDevice);\n",
        "\n",
        "    dim3 threadsPerBlock(256, 256);\n",
        "    dim3 numBlocks((N + threadsPerBlock.x - 1) / threadsPerBlock.x, (N + threadsPerBlock.y - 1) / threadsPerBlock.y);\n",
        "\n",
        "    for (int t = 0; t < T; t++) {\n",
        "        // Executando kernel de difusão\n",
        "        diff_eq_kernel<<<numBlocks, threadsPerBlock>>>(d_C, d_C_new, N);\n",
        "\n",
        "        // Inicializando diferença média na GPU\n",
        "        cudaMemset(d_difmedio, 0, sizeof(double));\n",
        "\n",
        "        // Atualizando matriz e calcular diferença média\n",
        "        update_kernel<<<numBlocks, threadsPerBlock>>>(d_C, d_C_new, d_difmedio, N);\n",
        "\n",
        "        // Copiando diferença média de volta para a CPU\n",
        "        double difmedio;\n",
        "        cudaMemcpy(&difmedio, d_difmedio, sizeof(double), cudaMemcpyDeviceToHost);\n",
        "\n",
        "        if ((t % 100) == 0)\n",
        "            printf(\"Interação %d - Diferença média = %g\\n\", t, difmedio / ((N - 2) * (N - 2)));\n",
        "    }\n",
        "\n",
        "    // Copiando os resultados de volta para o host\n",
        "    cudaMemcpy(C, d_C, size, cudaMemcpyDeviceToHost);\n",
        "\n",
        "    // Liberando memória da GPU\n",
        "    cudaFree(d_C);\n",
        "    cudaFree(d_C_new);\n",
        "    cudaFree(d_difmedio);\n",
        "}\n",
        "\n",
        "__global__ void diff_eq_kernel(double *C, double *C_new, int n) {\n",
        "    int i = blockIdx.x * blockDim.x + threadIdx.x;\n",
        "    int j = blockIdx.y * blockDim.y + threadIdx.y;\n",
        "\n",
        "    if (i > 0 && i < n && j > 0 && j < n) {\n",
        "        int idx = i * n + j;\n",
        "        C_new[idx] = C[idx] + D * DELTA_T * (\n",
        "            (C[(i + 1) * n + j] + C[(i - 1) * n + j] + C[i * n + (j + 1)] + C[i * n + (j - 1)] - 4 * C[idx]) / (DELTA_X * DELTA_X)\n",
        "        );\n",
        "    }\n",
        "}\n",
        "\n",
        "__global__ void update_kernel(double *C, double *C_new, double *difmedio, int n) {\n",
        "    int i = blockIdx.x * blockDim.x + threadIdx.x;\n",
        "    int j = blockIdx.y * blockDim.y + threadIdx.y;\n",
        "\n",
        "    if (i > 0 && i < n - 1 && j > 0 && j < n - 1) {\n",
        "        int idx = i * n + j;\n",
        "        atomicAdd(difmedio, fabs(C_new[idx] - C[idx]));\n",
        "        C[idx] = C_new[idx];\n",
        "    }\n",
        "}"
      ],
      "metadata": {
        "colab": {
          "base_uri": "https://localhost:8080/"
        },
        "outputId": "ab4fdb26-f3ca-47fe-bfbc-670e35a7464c",
        "id": "dYBXv5KGgL5d"
      },
      "execution_count": 65,
      "outputs": [
        {
          "output_type": "stream",
          "name": "stdout",
          "text": [
            "Overwriting diffusion.cu\n"
          ]
        }
      ]
    },
    {
      "cell_type": "code",
      "source": [
        "!nvcc -arch=sm_60 -o diffusion diffusion.cu\n",
        "!./diffusion"
      ],
      "metadata": {
        "colab": {
          "base_uri": "https://localhost:8080/"
        },
        "outputId": "197c219b-54e1-4634-dd90-ce9acff2e9eb",
        "id": "OS3Z5PwTgL5l"
      },
      "execution_count": 66,
      "outputs": [
        {
          "output_type": "stream",
          "name": "stdout",
          "text": [
            "Interação 0 - Diferença média = 0\n",
            "Interação 100 - Diferença média = 0\n",
            "Interação 200 - Diferença média = 0\n",
            "Interação 300 - Diferença média = 0\n",
            "Interação 400 - Diferença média = 0\n",
            "Tempo de execução: 0.113568 segundos\n",
            "Concentração final no centro: 1.000000\n"
          ]
        }
      ]
    },
    {
      "cell_type": "markdown",
      "source": [
        "### Teste 10"
      ],
      "metadata": {
        "id": "MkckgLh8gfvD"
      }
    },
    {
      "cell_type": "code",
      "source": [
        "%%writefile diffusion.cu\n",
        "\n",
        "#include <stdio.h>\n",
        "#include <stdlib.h>\n",
        "#include <math.h>\n",
        "\n",
        "#define N 2000    // Tamanho da grade\n",
        "#define T 500     // Número de iterações no tempo\n",
        "#define D 0.1     // Coeficiente de difusão\n",
        "#define DELTA_T 0.01\n",
        "#define DELTA_X 1.0\n",
        "\n",
        "__host__ void diff_eq(double *C, double *C_new);\n",
        "\n",
        "__global__ void diff_eq_kernel(double *C, double *C_new, int n);\n",
        "__global__ void update_kernel(double *C, double *C_new, double *difmedio, int n);\n",
        "\n",
        "int main() {\n",
        "    // Alocação dinâmica de memória para as matrizes na CPU\n",
        "    double *C = (double *)malloc(N * N * sizeof(double));\n",
        "    double *C_new = (double *)malloc(N * N * sizeof(double));\n",
        "\n",
        "    if (C == NULL || C_new == NULL) {\n",
        "        printf(\"Erro na alocação de memória.\\n\");\n",
        "        return 1;\n",
        "    }\n",
        "\n",
        "    for (int i = 0; i < N; i++) {\n",
        "        for (int j = 0; j < N; j++) {\n",
        "            C[i * N + j] = 0.0;\n",
        "            C_new[i * N + j] = 0.0;\n",
        "        }\n",
        "    }\n",
        "\n",
        "    // Inicializar uma concentração alta no centro\n",
        "    C[(N / 2) * N + (N / 2)] = 1.0;\n",
        "\n",
        "    double start = clock();\n",
        "    diff_eq(C, C_new);\n",
        "    double end = clock();\n",
        "\n",
        "    double time = (end - start) / CLOCKS_PER_SEC;\n",
        "    printf(\"Tempo de execução: %f segundos\\n\", time);\n",
        "    printf(\"Concentração final no centro: %f\\n\", C[(N / 2) * N + (N / 2)]);\n",
        "\n",
        "    // Liberar a memória alocada\n",
        "    free(C);\n",
        "    free(C_new);\n",
        "\n",
        "    return 0;\n",
        "}\n",
        "\n",
        "__host__ void diff_eq(double *C, double *C_new) {\n",
        "    double *d_C, *d_C_new, *d_difmedio;\n",
        "    size_t size = N * N * sizeof(double);\n",
        "\n",
        "    // Alocando memória na GPU\n",
        "    cudaMalloc((void **)&d_C, size);\n",
        "    cudaMalloc((void **)&d_C_new, size);\n",
        "    cudaMalloc((void **)&d_difmedio, sizeof(double));\n",
        "\n",
        "    // Copiando os dados para a GPU\n",
        "    cudaMemcpy(d_C, C, size, cudaMemcpyHostToDevice);\n",
        "    cudaMemcpy(d_C_new, C_new, size, cudaMemcpyHostToDevice);\n",
        "\n",
        "    dim3 threadsPerBlock(512, 512);\n",
        "    dim3 numBlocks((N + threadsPerBlock.x - 1) / threadsPerBlock.x, (N + threadsPerBlock.y - 1) / threadsPerBlock.y);\n",
        "\n",
        "    for (int t = 0; t < T; t++) {\n",
        "        // Executando kernel de difusão\n",
        "        diff_eq_kernel<<<numBlocks, threadsPerBlock>>>(d_C, d_C_new, N);\n",
        "\n",
        "        // Inicializando diferença média na GPU\n",
        "        cudaMemset(d_difmedio, 0, sizeof(double));\n",
        "\n",
        "        // Atualizando matriz e calcular diferença média\n",
        "        update_kernel<<<numBlocks, threadsPerBlock>>>(d_C, d_C_new, d_difmedio, N);\n",
        "\n",
        "        // Copiando diferença média de volta para a CPU\n",
        "        double difmedio;\n",
        "        cudaMemcpy(&difmedio, d_difmedio, sizeof(double), cudaMemcpyDeviceToHost);\n",
        "\n",
        "        if ((t % 100) == 0)\n",
        "            printf(\"Interação %d - Diferença média = %g\\n\", t, difmedio / ((N - 2) * (N - 2)));\n",
        "    }\n",
        "\n",
        "    // Copiando os resultados de volta para o host\n",
        "    cudaMemcpy(C, d_C, size, cudaMemcpyDeviceToHost);\n",
        "\n",
        "    // Liberando memória da GPU\n",
        "    cudaFree(d_C);\n",
        "    cudaFree(d_C_new);\n",
        "    cudaFree(d_difmedio);\n",
        "}\n",
        "\n",
        "__global__ void diff_eq_kernel(double *C, double *C_new, int n) {\n",
        "    int i = blockIdx.x * blockDim.x + threadIdx.x;\n",
        "    int j = blockIdx.y * blockDim.y + threadIdx.y;\n",
        "\n",
        "    if (i > 0 && i < n && j > 0 && j < n) {\n",
        "        int idx = i * n + j;\n",
        "        C_new[idx] = C[idx] + D * DELTA_T * (\n",
        "            (C[(i + 1) * n + j] + C[(i - 1) * n + j] + C[i * n + (j + 1)] + C[i * n + (j - 1)] - 4 * C[idx]) / (DELTA_X * DELTA_X)\n",
        "        );\n",
        "    }\n",
        "}\n",
        "\n",
        "__global__ void update_kernel(double *C, double *C_new, double *difmedio, int n) {\n",
        "    int i = blockIdx.x * blockDim.x + threadIdx.x;\n",
        "    int j = blockIdx.y * blockDim.y + threadIdx.y;\n",
        "\n",
        "    if (i > 0 && i < n - 1 && j > 0 && j < n - 1) {\n",
        "        int idx = i * n + j;\n",
        "        atomicAdd(difmedio, fabs(C_new[idx] - C[idx]));\n",
        "        C[idx] = C_new[idx];\n",
        "    }\n",
        "}"
      ],
      "metadata": {
        "colab": {
          "base_uri": "https://localhost:8080/"
        },
        "outputId": "c3f30710-baf3-4f0e-d106-4506e5268e22",
        "id": "p84LYhyzgfvF"
      },
      "execution_count": 67,
      "outputs": [
        {
          "output_type": "stream",
          "name": "stdout",
          "text": [
            "Overwriting diffusion.cu\n"
          ]
        }
      ]
    },
    {
      "cell_type": "code",
      "source": [
        "!nvcc -arch=sm_60 -o diffusion diffusion.cu\n",
        "!./diffusion"
      ],
      "metadata": {
        "colab": {
          "base_uri": "https://localhost:8080/"
        },
        "outputId": "a212647a-b74f-4700-c13a-ef69597c3ba4",
        "id": "In6EhxfXgfvL"
      },
      "execution_count": 68,
      "outputs": [
        {
          "output_type": "stream",
          "name": "stdout",
          "text": [
            "Interação 0 - Diferença média = 0\n",
            "Interação 100 - Diferença média = 0\n",
            "Interação 200 - Diferença média = 0\n",
            "Interação 300 - Diferença média = 0\n",
            "Interação 400 - Diferença média = 0\n",
            "Tempo de execução: 0.122194 segundos\n",
            "Concentração final no centro: 1.000000\n"
          ]
        }
      ]
    },
    {
      "cell_type": "markdown",
      "source": [
        "### Teste 11"
      ],
      "metadata": {
        "id": "nJHPmPBLgq1Y"
      }
    },
    {
      "cell_type": "code",
      "source": [
        "%%writefile diffusion.cu\n",
        "\n",
        "#include <stdio.h>\n",
        "#include <stdlib.h>\n",
        "#include <math.h>\n",
        "\n",
        "#define N 2000    // Tamanho da grade\n",
        "#define T 500     // Número de iterações no tempo\n",
        "#define D 0.1     // Coeficiente de difusão\n",
        "#define DELTA_T 0.01\n",
        "#define DELTA_X 1.0\n",
        "\n",
        "__host__ void diff_eq(double *C, double *C_new);\n",
        "\n",
        "__global__ void diff_eq_kernel(double *C, double *C_new, int n);\n",
        "__global__ void update_kernel(double *C, double *C_new, double *difmedio, int n);\n",
        "\n",
        "int main() {\n",
        "    // Alocação dinâmica de memória para as matrizes na CPU\n",
        "    double *C = (double *)malloc(N * N * sizeof(double));\n",
        "    double *C_new = (double *)malloc(N * N * sizeof(double));\n",
        "\n",
        "    if (C == NULL || C_new == NULL) {\n",
        "        printf(\"Erro na alocação de memória.\\n\");\n",
        "        return 1;\n",
        "    }\n",
        "\n",
        "    for (int i = 0; i < N; i++) {\n",
        "        for (int j = 0; j < N; j++) {\n",
        "            C[i * N + j] = 0.0;\n",
        "            C_new[i * N + j] = 0.0;\n",
        "        }\n",
        "    }\n",
        "\n",
        "    // Inicializar uma concentração alta no centro\n",
        "    C[(N / 2) * N + (N / 2)] = 1.0;\n",
        "\n",
        "    double start = clock();\n",
        "    diff_eq(C, C_new);\n",
        "    double end = clock();\n",
        "\n",
        "    double time = (end - start) / CLOCKS_PER_SEC;\n",
        "    printf(\"Tempo de execução: %f segundos\\n\", time);\n",
        "    printf(\"Concentração final no centro: %f\\n\", C[(N / 2) * N + (N / 2)]);\n",
        "\n",
        "    // Liberar a memória alocada\n",
        "    free(C);\n",
        "    free(C_new);\n",
        "\n",
        "    return 0;\n",
        "}\n",
        "\n",
        "__host__ void diff_eq(double *C, double *C_new) {\n",
        "    double *d_C, *d_C_new, *d_difmedio;\n",
        "    size_t size = N * N * sizeof(double);\n",
        "\n",
        "    // Alocando memória na GPU\n",
        "    cudaMalloc((void **)&d_C, size);\n",
        "    cudaMalloc((void **)&d_C_new, size);\n",
        "    cudaMalloc((void **)&d_difmedio, sizeof(double));\n",
        "\n",
        "    // Copiando os dados para a GPU\n",
        "    cudaMemcpy(d_C, C, size, cudaMemcpyHostToDevice);\n",
        "    cudaMemcpy(d_C_new, C_new, size, cudaMemcpyHostToDevice);\n",
        "\n",
        "    dim3 threadsPerBlock(1024, 1024);\n",
        "    dim3 numBlocks((N + threadsPerBlock.x - 1) / threadsPerBlock.x, (N + threadsPerBlock.y - 1) / threadsPerBlock.y);\n",
        "\n",
        "    for (int t = 0; t < T; t++) {\n",
        "        // Executando kernel de difusão\n",
        "        diff_eq_kernel<<<numBlocks, threadsPerBlock>>>(d_C, d_C_new, N);\n",
        "\n",
        "        // Inicializando diferença média na GPU\n",
        "        cudaMemset(d_difmedio, 0, sizeof(double));\n",
        "\n",
        "        // Atualizando matriz e calcular diferença média\n",
        "        update_kernel<<<numBlocks, threadsPerBlock>>>(d_C, d_C_new, d_difmedio, N);\n",
        "\n",
        "        // Copiando diferença média de volta para a CPU\n",
        "        double difmedio;\n",
        "        cudaMemcpy(&difmedio, d_difmedio, sizeof(double), cudaMemcpyDeviceToHost);\n",
        "\n",
        "        if ((t % 100) == 0)\n",
        "            printf(\"Interação %d - Diferença média = %g\\n\", t, difmedio / ((N - 2) * (N - 2)));\n",
        "    }\n",
        "\n",
        "    // Copiando os resultados de volta para o host\n",
        "    cudaMemcpy(C, d_C, size, cudaMemcpyDeviceToHost);\n",
        "\n",
        "    // Liberando memória da GPU\n",
        "    cudaFree(d_C);\n",
        "    cudaFree(d_C_new);\n",
        "    cudaFree(d_difmedio);\n",
        "}\n",
        "\n",
        "__global__ void diff_eq_kernel(double *C, double *C_new, int n) {\n",
        "    int i = blockIdx.x * blockDim.x + threadIdx.x;\n",
        "    int j = blockIdx.y * blockDim.y + threadIdx.y;\n",
        "\n",
        "    if (i > 0 && i < n && j > 0 && j < n) {\n",
        "        int idx = i * n + j;\n",
        "        C_new[idx] = C[idx] + D * DELTA_T * (\n",
        "            (C[(i + 1) * n + j] + C[(i - 1) * n + j] + C[i * n + (j + 1)] + C[i * n + (j - 1)] - 4 * C[idx]) / (DELTA_X * DELTA_X)\n",
        "        );\n",
        "    }\n",
        "}\n",
        "\n",
        "__global__ void update_kernel(double *C, double *C_new, double *difmedio, int n) {\n",
        "    int i = blockIdx.x * blockDim.x + threadIdx.x;\n",
        "    int j = blockIdx.y * blockDim.y + threadIdx.y;\n",
        "\n",
        "    if (i > 0 && i < n - 1 && j > 0 && j < n - 1) {\n",
        "        int idx = i * n + j;\n",
        "        atomicAdd(difmedio, fabs(C_new[idx] - C[idx]));\n",
        "        C[idx] = C_new[idx];\n",
        "    }\n",
        "}"
      ],
      "metadata": {
        "colab": {
          "base_uri": "https://localhost:8080/"
        },
        "outputId": "ffd04e1e-fe9a-4954-cd5d-86297c3b820d",
        "id": "oYm4siBFgq1Y"
      },
      "execution_count": 69,
      "outputs": [
        {
          "output_type": "stream",
          "name": "stdout",
          "text": [
            "Overwriting diffusion.cu\n"
          ]
        }
      ]
    },
    {
      "cell_type": "code",
      "source": [
        "!nvcc -arch=sm_60 -o diffusion diffusion.cu\n",
        "!./diffusion"
      ],
      "metadata": {
        "colab": {
          "base_uri": "https://localhost:8080/"
        },
        "outputId": "41f2415b-6435-4fa6-bd3f-d3adcb7b8ebf",
        "id": "8mxI03rRgq1b"
      },
      "execution_count": 70,
      "outputs": [
        {
          "output_type": "stream",
          "name": "stdout",
          "text": [
            "Interação 0 - Diferença média = 0\n",
            "Interação 100 - Diferença média = 0\n",
            "Interação 200 - Diferença média = 0\n",
            "Interação 300 - Diferença média = 0\n",
            "Interação 400 - Diferença média = 0\n",
            "Tempo de execução: 0.113857 segundos\n",
            "Concentração final no centro: 1.000000\n"
          ]
        }
      ]
    }
  ]
}